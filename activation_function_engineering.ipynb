{
  "nbformat": 4,
  "nbformat_minor": 0,
  "metadata": {
    "colab": {
      "name": "Engineered Activation Function Designer Tool (github version)",
      "provenance": [],
      "collapsed_sections": [],
      "toc_visible": true
    },
    "kernelspec": {
      "name": "python3",
      "display_name": "Python 3"
    },
    "language_info": {
      "name": "python"
    }
  },
  "cells": [
    {
      "cell_type": "markdown",
      "source": [
        "# Activation function engineering\n",
        "In this notebook, we perform gradient descent in the space of activation functions to find a parameterized $\\hat{\\phi}$ that mimics the kernel of a 4HL ReLU net.\n",
        "\n"
      ],
      "metadata": {
        "id": "MOH3JXIGkv0w"
      }
    },
    {
      "cell_type": "markdown",
      "source": [
        "# Imports and installs"
      ],
      "metadata": {
        "id": "Hm74YGDXAr7p"
      }
    },
    {
      "cell_type": "code",
      "execution_count": null,
      "metadata": {
        "id": "6c-RbaSfAk38",
        "colab": {
          "base_uri": "https://localhost:8080/"
        },
        "outputId": "1b72090c-33b0-44d6-d299-fe4859e39698"
      },
      "outputs": [
        {
          "output_type": "stream",
          "name": "stdout",
          "text": [
            "\u001b[?25l\r\u001b[K     |███▎                            | 10 kB 19.3 MB/s eta 0:00:01\r\u001b[K     |██████▋                         | 20 kB 6.4 MB/s eta 0:00:01\r\u001b[K     |██████████                      | 30 kB 4.5 MB/s eta 0:00:01\r\u001b[K     |█████████████▎                  | 40 kB 5.7 MB/s eta 0:00:01\r\u001b[K     |████████████████▌               | 51 kB 4.7 MB/s eta 0:00:01\r\u001b[K     |███████████████████▉            | 61 kB 5.5 MB/s eta 0:00:01\r\u001b[K     |███████████████████████▏        | 71 kB 6.3 MB/s eta 0:00:01\r\u001b[K     |██████████████████████████▌     | 81 kB 7.1 MB/s eta 0:00:01\r\u001b[K     |█████████████████████████████▉  | 92 kB 7.9 MB/s eta 0:00:01\r\u001b[K     |████████████████████████████████| 99 kB 3.8 MB/s \n",
            "\u001b[?25h  Building wheel for neural-tangents (setup.py) ... \u001b[?25l\u001b[?25hdone\n"
          ]
        }
      ],
      "source": [
        "!pip install -q git+https://www.github.com/google/neural-tangents\n",
        "\n",
        "import os\n",
        "import sys\n",
        "\n",
        "!git clone -q https://github.com/james-simon/eigenlearning.git\n",
        "sys.path.insert(0,'/content/eigenlearning')"
      ]
    },
    {
      "cell_type": "code",
      "source": [
        "import time\n",
        "\n",
        "import jax\n",
        "import jax.random as random\n",
        "import jax.numpy as np\n",
        "import numpy as basenp\n",
        "\n",
        "import matplotlib.pyplot as plt\n",
        "\n",
        "import neural_tangents as nt\n",
        "\n",
        "import utils, measures\n",
        "\n",
        "from scipy.optimize import minimize\n",
        "import time"
      ],
      "metadata": {
        "id": "98bpo0CFAvJg",
        "colab": {
          "base_uri": "https://localhost:8080/"
        },
        "outputId": "1a7edb38-0aaa-471b-b954-30617954ea91"
      },
      "execution_count": null,
      "outputs": [
        {
          "output_type": "stream",
          "name": "stderr",
          "text": [
            "/usr/local/lib/python3.7/dist-packages/jax/experimental/optimizers.py:30: FutureWarning: jax.experimental.optimizers is deprecated, import jax.example_libraries.optimizers instead\n",
            "  FutureWarning)\n"
          ]
        }
      ]
    },
    {
      "cell_type": "code",
      "source": [
        "key = jax.random.PRNGKey(17)"
      ],
      "metadata": {
        "id": "f1NGQmKT4HPW",
        "colab": {
          "base_uri": "https://localhost:8080/"
        },
        "outputId": "79e83828-c2d5-4bdd-e482-08c2edfee0b3"
      },
      "execution_count": null,
      "outputs": [
        {
          "output_type": "stream",
          "name": "stderr",
          "text": [
            "WARNING:absl:No GPU/TPU found, falling back to CPU. (Set TF_CPP_MIN_LOG_LEVEL=0 and rerun for more info.)\n"
          ]
        }
      ]
    },
    {
      "cell_type": "markdown",
      "source": [
        "# Helpers"
      ],
      "metadata": {
        "id": "I7BYfNHmAx34"
      }
    },
    {
      "cell_type": "markdown",
      "source": [
        "Squared error is the metric we use to compare the empirical and target kernels."
      ],
      "metadata": {
        "id": "zn1mzCNmm15m"
      }
    },
    {
      "cell_type": "code",
      "source": [
        "def squared_error(K_phi, K_target, exclude_endpoints=True):\n",
        "  if exclude_endpoints:\n",
        "    exact = K_target[10:-10]\n",
        "    empirical = K_phi[10:-10]\n",
        "  else:\n",
        "    exact = K_target\n",
        "    empirical = K_phi\n",
        "  \n",
        "  error = (exact - empirical)\n",
        "  return np.sum(error**2)"
      ],
      "metadata": {
        "id": "9qaXgurfm_3u"
      },
      "execution_count": null,
      "outputs": []
    },
    {
      "cell_type": "code",
      "source": [
        "def fcut(x, a=3):\n",
        "  return ('{:.'+str(a)+'f}').format(x)"
      ],
      "metadata": {
        "id": "o6UU6c347Oms"
      },
      "execution_count": null,
      "outputs": []
    },
    {
      "cell_type": "code",
      "source": [
        "def unit_circle_samples(n, cosine_spaced=False):\n",
        "  if cosine_spaced:\n",
        "    cosines = np.linspace(1, -1, n)\n",
        "    sines = (1 - cosines**2)**.5\n",
        "    X = np.stack([cosines, sines]).T * 2**.5\n",
        "    thetas = np.arccos(cosines)\n",
        "  \n",
        "  else:\n",
        "    thetas = np.linspace(0, np.pi, n)\n",
        "    cosines = np.cos(thetas)\n",
        "    sines = np.sin(thetas)\n",
        "    X = np.stack([cosines, sines]).T * 2**.5\n",
        "\n",
        "  return X, thetas"
      ],
      "metadata": {
        "id": "uqhIDESWA0qR"
      },
      "execution_count": null,
      "outputs": []
    },
    {
      "cell_type": "markdown",
      "source": [
        "We evaluate kernels values between -1 and 1 or on angles between 0 and $\\pi$."
      ],
      "metadata": {
        "id": "XSB7lg-zm-v4"
      }
    },
    {
      "cell_type": "code",
      "source": [
        "X, thetas = unit_circle_samples(100)"
      ],
      "metadata": {
        "id": "K-Nu62WGBGk7"
      },
      "execution_count": null,
      "outputs": []
    },
    {
      "cell_type": "code",
      "source": [
        "def kernel_curve(phi, W_std=1, b_std=0, num_hidden=1, width=2**14):\n",
        "  net_fns = utils.get_net_fns(width, 1, n_hidden_layers=num_hidden, W_std=W_std, b_std=b_std, phi=phi)\n",
        "\n",
        "  global key\n",
        "  key, subkey = random.split(key)\n",
        "  _, params = net_fns[0](subkey, (-1,2))\n",
        "  kernel_fn = nt.empirical_kernel_fn(net_fns[1])\n",
        "  return(kernel_fn(X, X[:1], 'ntk', params)[:,0])"
      ],
      "metadata": {
        "id": "DN_yh7uhBPa9"
      },
      "execution_count": null,
      "outputs": []
    },
    {
      "cell_type": "code",
      "source": [
        "def average_kernel_curve(iters, phi, W_std=1, b_std=0, num_hidden=1, width=2**14):\n",
        "  assert iters > 0\n",
        "  kernel_data = []\n",
        "  for i in range(iters):\n",
        "    kernel_data.append(kernel_curve(phi, W_std, b_std, num_hidden, width))\n",
        "  kernel_data = np.row_stack(kernel_data)\n",
        "  average_kernel = np.mean(kernel_data, axis=0)\n",
        "  std_kernel = np.std(kernel_data, axis=0)\n",
        "  return average_kernel, std_kernel"
      ],
      "metadata": {
        "id": "etBKbhl5n8M2"
      },
      "execution_count": null,
      "outputs": []
    },
    {
      "cell_type": "markdown",
      "source": [
        "Our target kernel (the one we wish to realize with a shallow, finite width network) is a 4HL ReLU NTK."
      ],
      "metadata": {
        "id": "QFW32oZqwLWj"
      }
    },
    {
      "cell_type": "code",
      "source": [
        "_, _, target_kernel_fn = utils.get_net_fns(1, 1, n_hidden_layers=4, W_std=2**.5, b_std=0.1, phi='relu')\n",
        "\n",
        "K_target = target_kernel_fn(X, X[:1], 'ntk')[:,0]"
      ],
      "metadata": {
        "id": "RpBRUriFA7dK"
      },
      "execution_count": null,
      "outputs": []
    },
    {
      "cell_type": "markdown",
      "source": [
        "# Plot kernels"
      ],
      "metadata": {
        "id": "FaqfFo4uB20d"
      }
    },
    {
      "cell_type": "markdown",
      "source": [
        "We optimize $\\tilde{\\phi}$ with 7 free parameters. The values below are a guess for the parameters made by hand. To reduce variance from network intialization, we average the kernels over 100 realizations."
      ],
      "metadata": {
        "id": "-lGck2T-oCKr"
      }
    },
    {
      "cell_type": "code",
      "source": [
        "a, b, c, d, e, f, g = 3.5, 1, .05, .8, .1, 10, np.pi/4+.1\n",
        "phi = lambda z : a*jax.nn.relu(z - b) + c*z + d + e*np.cos(f*z + g)\n",
        "\n",
        "\n",
        "K_phi_avg, K_phi_std = average_kernel_curve(100, phi, width=2**10)\n",
        "K_4HL_avg, K_4HL_std = average_kernel_curve(100, 'relu', W_std=2**0.5, b_std=0.1, num_hidden=4, width=2**10)"
      ],
      "metadata": {
        "id": "8_rY3luFCBrL",
        "colab": {
          "base_uri": "https://localhost:8080/"
        },
        "outputId": "14eac3b4-925b-4244-caa1-38c8f22889b7"
      },
      "execution_count": null,
      "outputs": [
        {
          "output_type": "stream",
          "name": "stderr",
          "text": [
            "/usr/local/lib/python3.7/dist-packages/neural_tangents/_src/stax/elementwise.py:804: UserWarning: Numerical Activation Layer with fn=<function <lambda> at 0x7f85251165f0>, deg=40 used!Note that numerical error is controlled by `deg` and for a giventolerance level, required `deg` will highly be dependent on the choiceof `fn`.\n",
            "  f'Numerical Activation Layer with fn={fn}, deg={deg} used!'\n",
            "/usr/local/lib/python3.7/dist-packages/neural_tangents/_src/stax/elementwise.py:813: UserWarning: Using JAX autodiff to compute the `fn` derivative for NTK. Beware of https://jax.readthedocs.io/en/latest/faq.html#gradients-contain-nan-where-using-where.\n",
            "  'Using JAX autodiff to compute the `fn` derivative for NTK. Beware of '\n"
          ]
        }
      ]
    },
    {
      "cell_type": "code",
      "source": [
        "fig, ax = plt.subplots(figsize=(7,6))\n",
        "\n",
        "ax.plot(thetas, K_target, label='4HL relu (inf)', color=(0,0,0,.3), linestyle='dashed', lw=5)\n",
        "ax.plot(thetas, K_4HL_avg, label='Avg 4HL finite')\n",
        "ax.fill_between(thetas, K_4HL_avg + K_4HL_std, K_4HL_avg - K_4HL_std, alpha=0.5)\n",
        "ax.plot(thetas, K_phi_avg, label='Avg Phi')\n",
        "ax.fill_between(thetas, K_phi_avg + K_phi_std, K_phi_avg - K_phi_std, alpha=0.5)\n",
        "\n",
        "ax.legend(fontsize=15)"
      ],
      "metadata": {
        "id": "22FgtbJYBzmv",
        "colab": {
          "base_uri": "https://localhost:8080/",
          "height": 392
        },
        "outputId": "769f53b1-cb07-408e-d461-911a0a906933"
      },
      "execution_count": null,
      "outputs": [
        {
          "output_type": "execute_result",
          "data": {
            "text/plain": [
              "<matplotlib.legend.Legend at 0x7f85226cb490>"
            ]
          },
          "metadata": {},
          "execution_count": 12
        },
        {
          "output_type": "display_data",
          "data": {
            "text/plain": [
              "<Figure size 504x432 with 1 Axes>"
            ],
            "image/png": "[encoded data removed]"
          },
          "metadata": {
            "needs_background": "light"
          }
        }
      ]
    },
    {
      "cell_type": "markdown",
      "source": [
        "# Optimize Kernels\n",
        "We want to optimize the activation function to achieve a kernel closes to the desired, infinite width target ReLU NTK. We measure closeness by squared error, $\\sum \\left(K_\\text{target} - K_\\text{empirical}\\right)^2$. We average the empirical kernel over 100 initializations of the net so that the error measure between target and empirical is more consistent."
      ],
      "metadata": {
        "id": "pNuE2uh4o8WY"
      }
    },
    {
      "cell_type": "code",
      "source": [
        "def define_phi_7(phi_coeffs):\n",
        "  a, b, c, d, e, f, g = phi_coeffs\n",
        "  phi = lambda z : a*jax.nn.relu(z - b) + c*z + d + e*np.cos(f*z + g)\n",
        "  return phi\n",
        "\n",
        "def define_phi_9(phi_coeffs):\n",
        "  a, b, c, d, e, f, g, h, i = phi_coeffs\n",
        "  phi = lambda z : a*jax.nn.relu(z - b) + c*jax.nn.relu(z - d) + e*z + f + g*np.cos(h*z + i)\n",
        "  return phi\n",
        "\n",
        "def define_phi(phi_coeffs):\n",
        "  if len(phi_coeffs) == 7:\n",
        "    phi = define_phi_7(phi_coeffs)\n",
        "  else:\n",
        "    phi = define_phi_9(phi_coeffs)\n",
        "  return phi\n",
        "  \n",
        "def phi_coeff_fitness_function(phi_coeffs):\n",
        "  phi = define_phi(phi_coeffs)\n",
        "  rse = squared_error(average_kernel_curve(20, phi)[0], K_target, False)\n",
        "  return rse"
      ],
      "metadata": {
        "id": "sE3kQRePnQCY"
      },
      "execution_count": null,
      "outputs": []
    },
    {
      "cell_type": "markdown",
      "source": [
        "To define an initial simplex for Nelder-Mead, we use the standard initialization algorithm implemented in Matlab."
      ],
      "metadata": {
        "id": "htChmw9Mojbc"
      }
    },
    {
      "cell_type": "code",
      "source": [
        "def random_coeffs(dim=9):\n",
        "  return [basenp.random.rand()*1 for _ in range(dim)]\n",
        "\n",
        "def initial_simplex(phi_coeffs):\n",
        "  N = len(phi_coeffs)\n",
        "  simplex = basenp.zeros((N+1, N))\n",
        "  simplex[0,:] = phi_coeffs\n",
        "  for i in range(N):\n",
        "    simplex[i+1,:] = phi_coeffs + basenp.eye(1, N, i) * (0.5 * basenp.max([phi_coeffs[i], 1]))\n",
        "  return simplex"
      ],
      "metadata": {
        "id": "ENHKdf_RV00B"
      },
      "execution_count": null,
      "outputs": []
    },
    {
      "cell_type": "markdown",
      "source": [
        "## Starting from by-hand parameters"
      ],
      "metadata": {
        "id": "M79ljxi_VG68"
      }
    },
    {
      "cell_type": "markdown",
      "source": [
        "This takes a long time (2 hours or more) to run, even using a GPU."
      ],
      "metadata": {
        "id": "i3WXUkNpK2vg"
      }
    },
    {
      "cell_type": "code",
      "source": [
        "phi_coeffs_guess = a, b, c, d, e, f, g\n",
        "\n",
        "options = {'disp': True, 'initial_simplex': initial_simplex(phi_coeffs_guess), 'maxiter': 1000}\n",
        "\n",
        "t1 = time.time()\n",
        "result = minimize(phi_coeff_fitness_function,\n",
        "                  x0=phi_coeffs_guess,\n",
        "                  method='Nelder-Mead',\n",
        "                  tol=1.e-2,\n",
        "                  options=options)\n",
        "t2 = time.time()\n",
        "print('Optimization time:', t2 - t1)\n",
        "\n",
        "print('Final Params:', list(result.x), squared_error(average_kernel_curve(10, define_phi(list(result.x)))[0], K_target, False))"
      ],
      "metadata": {
        "id": "mWELGsM7tHiY"
      },
      "execution_count": null,
      "outputs": []
    },
    {
      "cell_type": "code",
      "source": [
        "phi_coeffs_optimized = list(result.x)\n",
        "phi_opt = define_phi(phi_coeffs_optimized)\n",
        "K_phi_opt_avg, K_phi_opt_std = average_kernel_curve(100, phi_opt)\n",
        "\n",
        "fig, ax = plt.subplots(figsize=(7,6))\n",
        "\n",
        "ax.plot(thetas, K_target, label='4HL relu (inf)', color=(0,0,0,.3), linestyle='dashed', lw=5)\n",
        "ax.plot(thetas, K_phi_opt_avg, label='Avg Phi Opt')\n",
        "ax.fill_between(thetas, K_phi_opt_avg + K_phi_opt_std, K_phi_opt_avg - K_phi_opt_std, alpha=0.5)\n",
        "ax.plot(thetas, K_phi_avg, label='Avg Phi')\n",
        "ax.fill_between(thetas, K_phi_avg + K_phi_std, K_phi_avg - K_phi_std, alpha=0.5)\n",
        "\n",
        "ax.legend(fontsize=15)"
      ],
      "metadata": {
        "id": "7-nZyFACtYgs"
      },
      "execution_count": null,
      "outputs": []
    },
    {
      "cell_type": "markdown",
      "source": [
        "# Comparing Optimized and 4HL Finite"
      ],
      "metadata": {
        "id": "ISQ_nyn96Byo"
      }
    },
    {
      "cell_type": "code",
      "source": [
        "# Function used in mimic 4HL ReLU experiments.\n",
        "chosen_phi_coeffs_optimized_7 = [3.8001579818118927, 1.0600013769145225, 0.09680930566346302, 0.9010060417094072, -0.07936104642025432, 11.810565331593281, 0.9340552512015492]\n",
        "chosen_phi_opt_7 = define_phi(chosen_phi_coeffs_optimized_7)\n",
        "\n",
        "K_chosen_phi_opt_avg_7, K_chosen_phi_opt_std_7 = average_kernel_curve(100, chosen_phi_opt_7, width=2**10)\n",
        "\n",
        "fig, ax = plt.subplots(figsize=(7,6))\n",
        "\n",
        "ax.plot(thetas, K_target, label='4HL relu (inf)', color=(0,0,0,.3), linestyle='dashed', lw=5)\n",
        "ax.plot(thetas, K_4HL_avg, label='Avg 4HL finite')\n",
        "ax.fill_between(thetas, K_4HL_avg + K_4HL_std, K_4HL_avg - K_4HL_std, alpha=0.5)\n",
        "ax.plot(thetas, K_chosen_phi_opt_avg_7, label='Avg Phi Opt_7')\n",
        "ax.fill_between(thetas, K_chosen_phi_opt_avg_7 + K_chosen_phi_opt_std_7, K_chosen_phi_opt_avg_7 - K_chosen_phi_opt_std_7, alpha=0.5)\n",
        "\n",
        "ax.set_xlabel('Theta', fontsize=14)\n",
        "ax.set_ylabel(r'$K\\theta)$', fontsize=14)\n",
        "\n",
        "ax.legend(fontsize=15)"
      ],
      "metadata": {
        "id": "2vj6A-vsXosL",
        "colab": {
          "base_uri": "https://localhost:8080/",
          "height": 501
        },
        "outputId": "f0d44b37-6ae2-403f-83ae-aa413c7c003a"
      },
      "execution_count": null,
      "outputs": [
        {
          "output_type": "stream",
          "name": "stderr",
          "text": [
            "/usr/local/lib/python3.7/dist-packages/neural_tangents/_src/stax/elementwise.py:804: UserWarning: Numerical Activation Layer with fn=<function define_phi_7.<locals>.<lambda> at 0x7f85251ddf80>, deg=40 used!Note that numerical error is controlled by `deg` and for a giventolerance level, required `deg` will highly be dependent on the choiceof `fn`.\n",
            "  f'Numerical Activation Layer with fn={fn}, deg={deg} used!'\n",
            "/usr/local/lib/python3.7/dist-packages/neural_tangents/_src/stax/elementwise.py:813: UserWarning: Using JAX autodiff to compute the `fn` derivative for NTK. Beware of https://jax.readthedocs.io/en/latest/faq.html#gradients-contain-nan-where-using-where.\n",
            "  'Using JAX autodiff to compute the `fn` derivative for NTK. Beware of '\n"
          ]
        },
        {
          "output_type": "execute_result",
          "data": {
            "text/plain": [
              "<matplotlib.legend.Legend at 0x7f8521680ad0>"
            ]
          },
          "metadata": {},
          "execution_count": 17
        },
        {
          "output_type": "display_data",
          "data": {
            "text/plain": [
              "<Figure size 504x432 with 1 Axes>"
            ],
            "image/png": "[encoded data removed]"
          },
          "metadata": {
            "needs_background": "light"
          }
        }
      ]
    }
  ]
}