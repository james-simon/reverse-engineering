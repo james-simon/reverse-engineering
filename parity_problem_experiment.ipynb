{
  "nbformat": 4,
  "nbformat_minor": 0,
  "metadata": {
    "colab": {
      "name": "parity problem experiments (github version)",
      "provenance": [],
      "collapsed_sections": [
        "n-v0wGhuq0IC",
        "U4GB_5jsp6I8",
        "Q4mUpYabQPlt"
      ],
      "machine_shape": "hm"
    },
    "kernelspec": {
      "name": "python3",
      "display_name": "Python 3"
    },
    "language_info": {
      "name": "python"
    },
    "accelerator": "GPU"
  },
  "cells": [
    {
      "cell_type": "markdown",
      "source": [
        "# FCNs on the parity problem\n",
        "In this notebook, we train ReLU and sinusoidal FCNs on the parity problem, finding that the sinusoidal FCNs outperform the ReLU FCNs significantly as suggested by their respective NTKs."
      ],
      "metadata": {
        "id": "W3wtZML_uryC"
      }
    },
    {
      "cell_type": "markdown",
      "source": [
        "## Imports and installs"
      ],
      "metadata": {
        "id": "ZDtSKRCSgyDn"
      }
    },
    {
      "cell_type": "code",
      "execution_count": 1,
      "metadata": {
        "id": "w2L1V-lVfsPk",
        "colab": {
          "base_uri": "https://localhost:8080/"
        },
        "outputId": "eb8c34c7-773f-49bd-ab92-7fcb73e5cae4"
      },
      "outputs": [
        {
          "output_type": "stream",
          "name": "stdout",
          "text": [
            "\u001b[?25l\r\u001b[K     |███▎                            | 10 kB 24.1 MB/s eta 0:00:01\r\u001b[K     |██████▋                         | 20 kB 25.9 MB/s eta 0:00:01\r\u001b[K     |██████████                      | 30 kB 12.2 MB/s eta 0:00:01\r\u001b[K     |█████████████▎                  | 40 kB 8.3 MB/s eta 0:00:01\r\u001b[K     |████████████████▌               | 51 kB 4.1 MB/s eta 0:00:01\r\u001b[K     |███████████████████▉            | 61 kB 4.8 MB/s eta 0:00:01\r\u001b[K     |███████████████████████▏        | 71 kB 5.5 MB/s eta 0:00:01\r\u001b[K     |██████████████████████████▌     | 81 kB 6.1 MB/s eta 0:00:01\r\u001b[K     |█████████████████████████████▉  | 92 kB 6.7 MB/s eta 0:00:01\r\u001b[K     |████████████████████████████████| 99 kB 2.4 MB/s \n",
            "\u001b[?25h  Building wheel for neural-tangents (setup.py) ... \u001b[?25l\u001b[?25hdone\n"
          ]
        }
      ],
      "source": [
        "!pip install -q git+https://www.github.com/google/neural-tangents\n",
        "\n",
        "import os\n",
        "import sys\n",
        "\n",
        "if os.path.isdir('/content/eigenlearning'):\n",
        "  !rm -r '/content/eigenlearning'\n",
        "!git clone -q https://github.com/james-simon/eigenlearning.git\n",
        "sys.path.insert(0,'/content/eigenlearning')"
      ]
    },
    {
      "cell_type": "code",
      "source": [
        "import jax\n",
        "from jax import grad\n",
        "import jax.numpy as np\n",
        "import jax.random as random\n",
        "\n",
        "import scipy\n",
        "from scipy.misc import derivative\n",
        "import scipy.integrate as integrate\n",
        "import scipy.special as special\n",
        "\n",
        "import matplotlib.pyplot as plt\n",
        "\n",
        "import neural_tangents as nt\n",
        "\n",
        "import hypercube\n",
        "import measures\n",
        "import utils"
      ],
      "metadata": {
        "id": "lUCg2lfsgoYx",
        "colab": {
          "base_uri": "https://localhost:8080/"
        },
        "outputId": "258ce5dd-7897-4c69-ef89-4b18cee1be3e"
      },
      "execution_count": 2,
      "outputs": [
        {
          "output_type": "stream",
          "name": "stderr",
          "text": [
            "/usr/local/lib/python3.7/dist-packages/jax/experimental/optimizers.py:30: FutureWarning: jax.experimental.optimizers is deprecated, import jax.example_libraries.optimizers instead\n",
            "  FutureWarning)\n"
          ]
        }
      ]
    },
    {
      "cell_type": "code",
      "source": [
        "key = jax.random.PRNGKey(17)"
      ],
      "metadata": {
        "id": "E7NPn1zdLXe1"
      },
      "execution_count": 3,
      "outputs": []
    },
    {
      "cell_type": "code",
      "source": [
        "def fcut(x, a=3):\n",
        "  return ('{:.'+str(a)+'f}').format(x)"
      ],
      "metadata": {
        "id": "fIsfXwYRLZQt"
      },
      "execution_count": 4,
      "outputs": []
    },
    {
      "cell_type": "markdown",
      "source": [
        "## Load parity data"
      ],
      "metadata": {
        "id": "DDnHPidWmT6_"
      }
    },
    {
      "cell_type": "code",
      "source": [
        "n_bits = 11\n",
        "n_train = 2**(n_bits-1)\n",
        "n_test = 2**(n_bits-1)\n",
        "\n",
        "key, subkey = random.split(key)\n",
        "bitsets, [targets] = hypercube.get_hypercube_dataset(n_bits, [{n_bits : 1}], full=False, n=2**n_bits, subkey=subkey)\n",
        "\n",
        "train_X, train_y = bitsets[:n_train], targets[:n_train]\n",
        "test_X, test_y = bitsets[n_train:(n_train+n_test)], targets[n_train:(n_train+n_test)]\n",
        "\n",
        "dataset = (train_X, train_y), (test_X, test_y)"
      ],
      "metadata": {
        "id": "giBZyq31mTkf"
      },
      "execution_count": 5,
      "outputs": []
    },
    {
      "cell_type": "code",
      "source": [
        "train_y, test_y = -train_y, -test_y"
      ],
      "metadata": {
        "id": "HA-jzPN6qB84"
      },
      "execution_count": 6,
      "outputs": []
    },
    {
      "cell_type": "code",
      "source": [
        "def unit_circle_samples(n, cosine_spaced=False):\n",
        "  if cosine_spaced:\n",
        "    cosines = np.linspace(1, -1, n)\n",
        "    sines = (1 - cosines**2)**.5\n",
        "    X = np.stack([cosines, sines]).T * 2**.5\n",
        "    thetas = np.arccos(cosines)\n",
        "  \n",
        "  else:\n",
        "    thetas = np.linspace(0, np.pi, n)\n",
        "    cosines = np.cos(thetas)\n",
        "    sines = np.sin(thetas)\n",
        "    X = np.stack([cosines, sines]).T * 2**.5\n",
        "\n",
        "  return X, thetas"
      ],
      "metadata": {
        "id": "1Bu3bMGLzBQM"
      },
      "execution_count": 7,
      "outputs": []
    },
    {
      "cell_type": "code",
      "source": [
        "X, thetas = unit_circle_samples(100)"
      ],
      "metadata": {
        "id": "2XWAWrwtk9H_"
      },
      "execution_count": 8,
      "outputs": []
    },
    {
      "cell_type": "markdown",
      "source": [
        "## Putting it all together"
      ],
      "metadata": {
        "id": "FT4V995sqlDD"
      }
    },
    {
      "cell_type": "markdown",
      "source": [
        "### Create kernels"
      ],
      "metadata": {
        "id": "MO9epTpHvCsy"
      }
    },
    {
      "cell_type": "code",
      "source": [
        "net_fns, results = {}, {}"
      ],
      "metadata": {
        "id": "EGhKraC7qmUl"
      },
      "execution_count": 9,
      "outputs": []
    },
    {
      "cell_type": "code",
      "source": [
        "net_fns['4HL ReLU'] = utils.get_net_fns(128, 1, n_hidden_layers=4, W_std=2**.5, b_std=.1)"
      ],
      "metadata": {
        "id": "R7uyOuXrqtAh"
      },
      "execution_count": 10,
      "outputs": []
    },
    {
      "cell_type": "code",
      "source": [
        "%%capture\n",
        "phi = lambda z : .5 * np.sin(6 * z)\n",
        "net_fns['1HL phi'] = utils.get_net_fns(128, 1, n_hidden_layers=1, W_std=1, b_std=0, phi=phi, phi_deg=70)"
      ],
      "metadata": {
        "id": "d2hG7qJmrNaR"
      },
      "execution_count": 11,
      "outputs": []
    },
    {
      "cell_type": "code",
      "source": [
        "%%capture\n",
        "phi = lambda z : 10 * np.sin(6 * z)\n",
        "net_fns['1HL phi b'] = utils.get_net_fns(128, 1, n_hidden_layers=1, W_std=1, b_std=0, phi=phi)"
      ],
      "metadata": {
        "id": "JMPkFgTiq-hg"
      },
      "execution_count": 12,
      "outputs": []
    },
    {
      "cell_type": "code",
      "source": [
        "phi_ntk_coeffs = .25 * np.exp(-6**2) * np.array([6.**(2*k) * (1 + k) / special.factorial(k) if k%2==1 else 0 for k in range(1, 100, 2)])\n",
        "phi_ntk_coeffs.sum()"
      ],
      "metadata": {
        "colab": {
          "base_uri": "https://localhost:8080/"
        },
        "id": "i4_nqQJwwTf6",
        "outputId": "e1c3a41b-00fc-46e3-bf2f-7aa6bffcef88"
      },
      "execution_count": 13,
      "outputs": [
        {
          "output_type": "execute_result",
          "data": {
            "text/plain": [
              "DeviceArray(4.625, dtype=float32)"
            ]
          },
          "metadata": {},
          "execution_count": 13
        }
      ]
    },
    {
      "cell_type": "markdown",
      "source": [
        "### Plot kernels"
      ],
      "metadata": {
        "id": "lAGR8kgTvFzl"
      }
    },
    {
      "cell_type": "code",
      "source": [
        "fig, axs = plt.subplots(ncols=2, figsize=(7,3))\n",
        "\n",
        "\n",
        "ax = axs[0]\n",
        "Ks = net_fns['4HL ReLU'][2](X, X[:1], 'ntk')[:,0]\n",
        "ax.plot(X[:,0] / 2**.5, Ks, label='4HL  ReLU(z)', color=(0,0,1))\n",
        "\n",
        "Ks = net_fns['1HL phi'][2](X, X[:1], 'ntk')[:,0]\n",
        "ax.plot(X[:,0] / 2**.5, Ks, label='1HL  $\\\\frac{1}{2}\\sin(6z)$', color=(1,0,0))\n",
        "\n",
        "ax.legend(fontsize=13, frameon=False)\n",
        "\n",
        "ax.tick_params(axis='both', labelsize=15)\n",
        "ax.set_xlabel('$c$', fontsize=25)\n",
        "ax.set_ylabel('$K(c)$', fontsize=25, labelpad=-10)\n",
        "\n",
        "\n",
        "ax = axs[1]\n",
        "ax.scatter(np.array(range(len(phi_ntk_coeffs))) * 2 + 1, phi_ntk_coeffs, color=(0,0,0), s=6)\n",
        "\n",
        "ax.tick_params(axis='both', labelsize=15)\n",
        "ax.set_xlabel('$k$', fontsize=25)\n",
        "ax.set_ylabel('$a_k$', fontsize=25, labelpad=0)\n",
        "\n",
        "for i in range(len(axs)):\n",
        "  axs[i].text(.06, .88, 'AB'[i], transform=axs[i].transAxes, size=20, weight='bold', ha='center')\n",
        "\n",
        "fig.tight_layout()\n",
        "\n",
        "plt.savefig('parity_kernels.pdf', transparent=True, dpi=300, bbox_inches='tight')"
      ],
      "metadata": {
        "colab": {
          "base_uri": "https://localhost:8080/",
          "height": 225
        },
        "id": "iUg-im_KrP90",
        "outputId": "3a780d24-a6a6-41f2-a9bc-c499c2c4d22e"
      },
      "execution_count": 14,
      "outputs": [
        {
          "output_type": "display_data",
          "data": {
            "text/plain": [
              "<Figure size 504x216 with 2 Axes>"
            ],
            "image/png": "[encoded data removed]"
          },
          "metadata": {
            "needs_background": "light"
          }
        }
      ]
    },
    {
      "cell_type": "markdown",
      "source": [
        "### Train nets"
      ],
      "metadata": {
        "id": "lpKpP92evJDB"
      }
    },
    {
      "cell_type": "code",
      "source": [
        "results['4HL ReLU'] = []\n",
        "\n",
        "n_trials, n_epochs = 30, 10000\n",
        "\n",
        "for _ in range(n_trials):\n",
        "  key, subkey = random.split(key)\n",
        "  res = measures.net_measures(net_fns['4HL ReLU'], dataset, [], n_epochs=n_epochs, lr=.1, subkey=subkey, print_every=n_epochs//10, compute_acc=True, stop_mse=.001)\n",
        "  results['4HL ReLU'] += [res]\n",
        "  print()"
      ],
      "metadata": {
        "id": "o6Jetz_Arodb"
      },
      "execution_count": null,
      "outputs": []
    },
    {
      "cell_type": "code",
      "source": [
        "results['1HL phi'] = []\n",
        "\n",
        "n_trials, n_epochs = 30, 4000\n",
        "\n",
        "for _ in range(n_trials):\n",
        "  key, subkey = random.split(key)\n",
        "  res = measures.net_measures(net_fns['1HL phi'], dataset, [], n_epochs=n_epochs, lr=.1, subkey=subkey, print_every=n_epochs//10, compute_acc=True, stop_mse=.001)\n",
        "  results['1HL phi'] += [res]\n",
        "  print()"
      ],
      "metadata": {
        "id": "SHFgfvZBt9Wb"
      },
      "execution_count": null,
      "outputs": []
    },
    {
      "cell_type": "code",
      "source": [
        "results['1HL phi b'] = []\n",
        "\n",
        "n_trials, n_epochs = 30, 100\n",
        "\n",
        "for _ in range(n_trials):\n",
        "  key, subkey = random.split(key)\n",
        "  res = measures.net_measures(net_fns['1HL phi b'], dataset, [], n_epochs=n_epochs, lr=.01, subkey=subkey, print_every=n_epochs//10, compute_acc=True, stop_mse=.001)\n",
        "  results['1HL phi b'] += [res]\n",
        "  print()"
      ],
      "metadata": {
        "id": "qqJ0D128Aw2I"
      },
      "execution_count": null,
      "outputs": []
    },
    {
      "cell_type": "markdown",
      "source": [
        "### Print results"
      ],
      "metadata": {
        "id": "AWdBCaMavMG-"
      }
    },
    {
      "cell_type": "code",
      "source": [
        "for arch in results:\n",
        "  mses = np.array([res['mse'] for res in results[arch]])\n",
        "  accs = np.array([res['acc'] for res in results[arch]])\n",
        "  \n",
        "  print(f'{arch}\\t---\\t mse: {mses.mean().item(), mses.std().item()} \\t acc: {accs.mean().item(), accs.std().item()}')"
      ],
      "metadata": {
        "colab": {
          "base_uri": "https://localhost:8080/"
        },
        "id": "V3zmiqhLGtTz",
        "outputId": "68b548d1-405b-4523-f81e-18449e5363ce"
      },
      "execution_count": 18,
      "outputs": [
        {
          "output_type": "stream",
          "name": "stdout",
          "text": [
            "4HL ReLU\t---\t mse: (2.8161532878875732, 0.12086958438158035) \t acc: (0.29371747374534607, 0.01597246155142784)\n",
            "1HL phi\t---\t mse: (0.02070895954966545, 0.0037197526544332504) \t acc: (1.0, 0.0)\n",
            "1HL phi b\t---\t mse: (0.667985737323761, 0.33163726329803467) \t acc: (0.8204752802848816, 0.0854962021112442)\n"
          ]
        }
      ]
    },
    {
      "cell_type": "code",
      "source": [
        "for arch in results:\n",
        "  mses = np.array([res['mse'] for res in results[arch]])\n",
        "  accs = np.array([res['acc'] for res in results[arch]])\n",
        "  \n",
        "  print(f'{arch} \\t---\\t ${fcut(mses.mean().item())} \\\\pm {fcut(mses.std().item())}$ & ${fcut(100 * accs.mean().item())} \\\\pm {fcut(100 * accs.std().item())}$')"
      ],
      "metadata": {
        "colab": {
          "base_uri": "https://localhost:8080/"
        },
        "id": "DiYvpmpM2lhd",
        "outputId": "b08052e2-d18a-4aaa-aa88-ada5b3d45da2"
      },
      "execution_count": 19,
      "outputs": [
        {
          "output_type": "stream",
          "name": "stdout",
          "text": [
            "4HL ReLU \t---\t $2.816 \\pm 0.121$ & $29.372 \\pm 1.597$\n",
            "1HL phi \t---\t $0.021 \\pm 0.004$ & $100.000 \\pm 0.000$\n",
            "1HL phi b \t---\t $0.668 \\pm 0.332$ & $82.048 \\pm 8.550$\n"
          ]
        }
      ]
    },
    {
      "cell_type": "code",
      "source": [
        ""
      ],
      "metadata": {
        "id": "jIa87RotHCvD"
      },
      "execution_count": null,
      "outputs": []
    }
  ]
}