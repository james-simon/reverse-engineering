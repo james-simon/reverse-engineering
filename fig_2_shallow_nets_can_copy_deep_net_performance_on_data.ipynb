{
  "nbformat": 4,
  "nbformat_minor": 0,
  "metadata": {
    "colab": {
      "name": "fig 2: shallow nets can copy deep net performance on data",
      "provenance": [],
      "collapsed_sections": [],
      "toc_visible": true
    },
    "kernelspec": {
      "name": "python3",
      "display_name": "Python 3"
    },
    "language_info": {
      "name": "python"
    },
    "accelerator": "GPU"
  },
  "cells": [
    {
      "cell_type": "markdown",
      "metadata": {
        "id": "muul0tm-1tUO"
      },
      "source": [
        "# Figure 2\n",
        "We show that wide shallow nets with engineered activation functions can realize the performance of desired deep ReLU kernels on CIFAR-10."
      ]
    },
    {
      "cell_type": "markdown",
      "metadata": {
        "id": "UH4fGMESBDHk"
      },
      "source": [
        "# Imports"
      ]
    },
    {
      "cell_type": "code",
      "metadata": {
        "id": "K5VOmEC2AS_I"
      },
      "source": [
        "!pip install -q git+https://www.github.com/google/neural-tangents\n",
        "!sudo apt-get install texlive-latex-recommended\n",
        "!sudo apt install texlive-latex-extra\n",
        "!sudo apt install dvipng\n",
        "!sudo apt install cm-super dvipng\n",
        "!pip install pmlb\n",
        "!pip install cifar10_web\n",
        "\n",
        "import cifar10_web\n",
        "\n",
        "import cvxopt\n",
        "\n",
        "import jax.nn\n",
        "import jax.numpy as np\n",
        "from jax import random\n",
        "from jax.api import jit, grad, vmap\n",
        "from jax.config import config\n",
        "from jax.experimental import optimizers\n",
        "from jax.ops import index_update\n",
        "\n",
        "import neural_tangents as nt\n",
        "from neural_tangents import stax\n",
        "\n",
        "import numpy as base_np\n",
        "\n",
        "import pandas as pd\n",
        "\n",
        "from scipy.special import factorial, factorial2\n",
        "\n",
        "from tqdm.notebook import tqdm\n",
        "\n",
        "import matplotlib.pyplot as plt\n",
        "\n",
        "config.update(\"jax_enable_x64\", True)\n",
        "\n",
        "np.set_printoptions(precision=4, linewidth=200)\n",
        "\n",
        "key = random.PRNGKey(17)"
      ],
      "execution_count": null,
      "outputs": []
    },
    {
      "cell_type": "markdown",
      "metadata": {
        "id": "DK0qgtHDTPoM"
      },
      "source": [
        "# Datasetup"
      ]
    },
    {
      "cell_type": "markdown",
      "metadata": {
        "id": "npw_UE6-2Ofg"
      },
      "source": [
        "CIFAR-10 data as in the other notebooks, normalized as described in the paper."
      ]
    },
    {
      "cell_type": "code",
      "metadata": {
        "id": "YscBjquUCjAi"
      },
      "source": [
        "def get_cifar10(n_train=None):\n",
        "  train_X, train_y, test_X, test_y = cifar10_web.cifar10(path=None)\n",
        "\n",
        "  # NORMALIZE GLOBALLY\n",
        "  train_mean = train_X.mean()\n",
        "  train_std = train_X.std()\n",
        "  train_X = (train_X - train_mean)/train_std\n",
        "  test_X = (test_X - train_mean)/train_std\n",
        "  # NORMALIZE LOCALLY\n",
        "  train_X = train_X/((train_X**2).mean(axis=1)**.5)[:,None]\n",
        "  test_X = test_X/((test_X**2).mean(axis=1)**.5)[:,None]\n",
        "\n",
        "  if n_train is not None:\n",
        "    train_X = train_X[:n_train]\n",
        "    train_y = train_y[:n_train]\n",
        "\n",
        "  return train_X, train_y, test_X, test_y"
      ],
      "execution_count": null,
      "outputs": []
    },
    {
      "cell_type": "markdown",
      "metadata": {
        "id": "cwBBigUjVm6I"
      },
      "source": [
        "# Net setup"
      ]
    },
    {
      "cell_type": "code",
      "metadata": {
        "id": "MUORWcTZVpBy"
      },
      "source": [
        "def get_net_functions(d_in, width, d_out, n_hidden_layers=1, phi=None, deg=40, centered=False, W_std=None, b_std=None):\n",
        "    global key\n",
        "\n",
        "    init_fn, apply_fn_uncentered, kernel_fn = None, None, None\n",
        "\n",
        "    # if there's a phi, make a net with activation function phi\n",
        "    if phi is not None and phi != 'relu':\n",
        "      if phi == 'erf':\n",
        "        W_std = W_std if W_std is not None else 1.5\n",
        "        b_std = b_std if b_std is not None else 0.3\n",
        "        layers = [stax.Dense(width, W_std=W_std, b_std=b_std), stax.Erf()]*n_hidden_layers\n",
        "        layers += [stax.Dense(d_out, W_std=1, b_std=0)]\n",
        "        init_fn, apply_fn_uncentered, kernel_fn = stax.serial(*layers)\n",
        "      else:\n",
        "        W_std = W_std if W_std is not None else 1\n",
        "        b_std = b_std if b_std is not None else 0\n",
        "        layers = [stax.Dense(width, W_std=W_std, b_std=b_std), stax.ElementwiseNumerical(fn=phi, deg=deg)]*n_hidden_layers\n",
        "        layers += [stax.Dense(d_out, W_std=1, b_std=0)]\n",
        "        init_fn, apply_fn_uncentered, kernel_fn = stax.serial(*layers)\n",
        "\n",
        "    # otherwise, make a relu net\n",
        "    else:\n",
        "      W_std = W_std if W_std is not None else 1.5\n",
        "      b_std = b_std if b_std is not None else 0.1\n",
        "      layers = [stax.Dense(width, W_std=W_std, b_std=b_std), stax.Relu()]*n_hidden_layers\n",
        "      layers += [stax.Dense(d_out, W_std=1, b_std=0)]\n",
        "      init_fn, apply_fn_uncentered, kernel_fn = stax.serial(*layers)\n",
        "\n",
        "    key, net_key = random.split(key)\n",
        "    _, initial_params = init_fn(net_key, (-1, d_in))\n",
        "    apply_fn = jit(apply_fn_uncentered) if not centered else jit(lambda params, x: apply_fn_uncentered(params, x) - apply_fn_uncentered(initial_params, x))\n",
        "\n",
        "    return init_fn, apply_fn, kernel_fn, initial_params"
      ],
      "execution_count": null,
      "outputs": []
    },
    {
      "cell_type": "code",
      "metadata": {
        "id": "ub-TU6xXBQ3o"
      },
      "source": [
        "def get_batched_kernel_fn(kernel_fn, k_batch_size=100):\n",
        "  def batched_kernel_fn(x1, x2, get=None):\n",
        "    x2 = x1 if x2 is None else x2\n",
        "    get = get[0] if get in [('nngp',),('ntk',)] else get\n",
        "    kernel_fn_jit = jit(lambda x1,x2: kernel_fn(x1, x2, get))\n",
        "    # subkernels = [kernel_fn(x1, x2[k_batch_size*i:min(k_batch_size*(i+1), x2.shape[0])], get=get) for i in range(int(np.ceil(x2.shape[0]/k_batch_size)))]\n",
        "    subkernels = [kernel_fn_jit(x1, x2[k_batch_size*i:min(k_batch_size*(i+1), x2.shape[0])]) for i in range(int(np.ceil(x2.shape[0]/k_batch_size)))]\n",
        "    output = np.concatenate(subkernels, axis=1)\n",
        "    return output\n",
        "  return batched_kernel_fn"
      ],
      "execution_count": null,
      "outputs": []
    },
    {
      "cell_type": "code",
      "metadata": {
        "id": "SoXf5h1uBRwr"
      },
      "source": [
        "mse = lambda y_hat, y_true: 0.5 * ((y_hat - y_true) ** 2).sum(axis=1).mean()\n",
        "percent_correct = jit(lambda y_hat, y_true: 100*(np.argmax(y_hat, axis=1) == np.argmax(y_true, axis=1)).mean())"
      ],
      "execution_count": null,
      "outputs": []
    },
    {
      "cell_type": "markdown",
      "metadata": {
        "id": "NhOdUsgQu1XN"
      },
      "source": [
        "# Phi generation functions"
      ]
    },
    {
      "cell_type": "code",
      "metadata": {
        "id": "akzIpEXhvwSn"
      },
      "source": [
        "def psd_poly_fit(xs, fs, deg=5):\n",
        "  Q = base_np.zeros((deg+1, deg+1))\n",
        "  p = base_np.zeros((deg+1,))\n",
        "  G = -1*base_np.eye(deg+1)\n",
        "  h = 0*p\n",
        "\n",
        "  for i in range(deg + 1):\n",
        "    for j in range(deg + 1):\n",
        "      Q[i][j] = 2*(xs**(i+j)).sum()\n",
        "  for i in range(deg + 1):\n",
        "    p[i] = -2*((xs**i)*fs).sum()\n",
        "  \n",
        "  Q = (10**3)*cvxopt.matrix(Q)\n",
        "  p = (10**3)*cvxopt.matrix(p)\n",
        "  G = cvxopt.matrix(G)\n",
        "  h = cvxopt.matrix(h)\n",
        "  \n",
        "  cvxopt.solvers.options['show_progress'] = False\n",
        "  sol = cvxopt.solvers.qp(Q, p, G, h)\n",
        "\n",
        "  return base_np.array(sol['x']).flatten()"
      ],
      "execution_count": null,
      "outputs": []
    },
    {
      "cell_type": "code",
      "metadata": {
        "id": "xOSIQeNGvx5I"
      },
      "source": [
        "def poly_coeffs_to_lambda_fn_string(c_alpha):\n",
        "  output = \"lambda z: \"\n",
        "  for i in range(len(c_alpha)):\n",
        "    coeff = c_alpha[i]/factorial(i)\n",
        "    if coeff != 0:\n",
        "      output += str(coeff) + \"*z**\" + str(i) + \" + \"\n",
        "  return(output[:-3])"
      ],
      "execution_count": null,
      "outputs": []
    },
    {
      "cell_type": "code",
      "metadata": {
        "id": "oQTvnII_u45i"
      },
      "source": [
        "def phi_from_kernel_fn(kernel_fn, k_type, deg=10, n_sample_pts=1000, weight_on_endpts=0):\n",
        "  d_in = 2\n",
        "  n_sample_pts = n_sample_pts\n",
        "  xis = np.linspace(1,-1,n_sample_pts)\n",
        "\n",
        "  # if weighting the endpoints higher, add more -1s and +1s to xis\n",
        "  if weight_on_endpts > 0:\n",
        "    n_interior_pts = int(n_sample_pts*(1 - 2*weight_on_endpts))\n",
        "    n_endpts = int(n_sample_pts*weight_on_endpts)\n",
        "    xis = np.linspace(1, -1, n_interior_pts + 2)\n",
        "    xis = np.concatenate([np.array([1]*(n_endpts - 1)), xis, np.array([-1]*(n_endpts - 1))])\n",
        "\n",
        "  sines = (1 - xis**2)**.5\n",
        "  u0 = index_update(np.zeros(d_in), 0, 1)\n",
        "  u1 = index_update(np.zeros(d_in), 1, 1)\n",
        "  xs = np.outer(xis, u0) + np.outer(sines, u1)\n",
        "  xs = (d_in**.5)*xs\n",
        "\n",
        "  Ks = kernel_fn(xs[0:1], xs, k_type)[0]\n",
        "\n",
        "  desired_coeffs = psd_poly_fit(xis, Ks, deg=deg)\n",
        "  desired_coeffs *= (np.array(np.abs(desired_coeffs) > 10**-3))\n",
        "  print('approximating K as a polynomial with coeffs', desired_coeffs)\n",
        "\n",
        "  # construct matrix for going from K (i.e. a_gamma) to phi (i.e. c_alpha)\n",
        "  Minv = [[(-1)**((col - row)/2)/factorial2(col - row)\n",
        "          if (col >= row)*((col + row)%2 == 0)\n",
        "          else 0\n",
        "          for col in range(deg + 1)]\n",
        "          for row in range(deg + 1)]\n",
        "  Minv = np.array(Minv)\n",
        "\n",
        "  a_gamma = [desired_coeffs[gamma]*factorial(gamma) if gamma < len(desired_coeffs) else 0 for gamma in range(len(Minv))]\n",
        "  b_gamma = np.array(a_gamma)**.5\n",
        "  c_alpha = np.matmul(Minv, np.array(b_gamma))\n",
        "\n",
        "  phi_def_string = poly_coeffs_to_lambda_fn_string(c_alpha)\n",
        "  phi = eval(phi_def_string)\n",
        "\n",
        "  string_to_print = '\\\\phi(z) = '\n",
        "  for alpha in range(len(c_alpha)):\n",
        "    coeff = c_alpha[alpha]/factorial(alpha)\n",
        "    if abs(coeff) > 0:\n",
        "      if string_to_print[-2] != '=':\n",
        "        if coeff < 0:\n",
        "          string_to_print += ' - '\n",
        "        else:\n",
        "          string_to_print += ' + '\n",
        "      else:\n",
        "        if coeff < 0:\n",
        "          string_to_print += '-'\n",
        "      coeff = abs(coeff)\n",
        "      string_to_print += f'{coeff:.4}'\n",
        "      if alpha > 0:\n",
        "        string_to_print += ' z'\n",
        "        if alpha > 1:\n",
        "          string_to_print += f'^{{{alpha}}}'\n",
        "  print('\\n' + string_to_print + '\\n')\n",
        "\n",
        "  return phi"
      ],
      "execution_count": null,
      "outputs": []
    },
    {
      "cell_type": "markdown",
      "metadata": {
        "id": "6H3xRIm7-9Ig"
      },
      "source": [
        "# Net depth comparison plot function"
      ]
    },
    {
      "cell_type": "markdown",
      "metadata": {
        "id": "G93DNWvN2pGp"
      },
      "source": [
        "Emulate the performance of depth 15, NNGP ReLU kernel via wide single-hidden-layer networks of varying degree polynomial. Compare this to the performance of NNGP and NTK kernels of different depths and activation functions."
      ]
    },
    {
      "cell_type": "code",
      "metadata": {
        "id": "CTRvJ27v_Prv"
      },
      "source": [
        "def get_deep_net_results(dataset, max_depth=10, max_phi_deg=10):\n",
        "  train_X, train_y, test_X, test_y = dataset\n",
        "  d_in = train_X.shape[1]\n",
        "  d_out = train_y.shape[1]\n",
        "  \n",
        "  depths = list(range(1, max_depth+1, 1))\n",
        "\n",
        "  # SHALLOW NET\n",
        "\n",
        "  testlosses_shallow = []\n",
        "  testaccs_shallow = []\n",
        "\n",
        "  for phi_deg in range(2, max_phi_deg+1, 1):\n",
        "    # emulate 15 relu (nngp)\n",
        "    _, _, kernel_target, _ = get_net_functions(d_in, 1000, d_out, n_hidden_layers=15, phi='relu', b_std=.1)\n",
        "    phi = phi_from_kernel_fn(kernel_target, 'nngp', deg=phi_deg, weight_on_endpts=.1)\n",
        "\n",
        "    init_fn, apply_fn, kernel_fn, initial_params = get_net_functions(d_in, 1000, d_out, n_hidden_layers=1, phi=phi)\n",
        "    batched_kernel_fn = get_batched_kernel_fn(kernel_fn, k_batch_size=1000)\n",
        "    predict_fn = nt.predict.gradient_descent_mse_ensemble(batched_kernel_fn, train_X[:], train_y[:])\n",
        "    inf_width_test_preds = predict_fn(x_test=test_X, get='nngp', compute_cov=False)\n",
        "    testloss_shallow = mse(inf_width_test_preds, test_y)\n",
        "    testacc_shallow = percent_correct(inf_width_test_preds, test_y)\n",
        "    testlosses_shallow += [testloss_shallow]\n",
        "    testaccs_shallow += [testacc_shallow]\n",
        "  \n",
        "  for phi_deg in range(2, max_phi_deg+1, 1):\n",
        "    print(\"shallow [\"+str(phi_deg)+\"] (nngp)      \t  loss: {:9.5f}\".format(testlosses_shallow[phi_deg-2]), \"\\t\\t\\tacc: {:7.2f}\".format(testaccs_shallow[phi_deg-2]))\n",
        "  print()\n",
        "\n",
        "  testlosses_erf = {'nngp':[], 'ntk':[]}\n",
        "  testaccs_erf = {'nngp':[], 'ntk':[]}\n",
        "  # LOOP THROUGH ERF NETS OF DIFFERENT DEPTHS\n",
        "  for n_hidden_layers in depths:\n",
        "    init_fn, apply_fn, kernel_fn, initial_params = get_net_functions(d_in, 1000, d_out, n_hidden_layers=n_hidden_layers, phi='erf')\n",
        "    batched_kernel_fn = get_batched_kernel_fn(kernel_fn, k_batch_size=1000)\n",
        "\n",
        "    predict_fn = nt.predict.gradient_descent_mse_ensemble(batched_kernel_fn, train_X[:], train_y[:])\n",
        "\n",
        "    for k_type in ['nngp', 'ntk']:\n",
        "      inf_width_test_preds = predict_fn(x_test=test_X, get=k_type, compute_cov=False)\n",
        "      testlosses_erf[k_type] += [mse(inf_width_test_preds, test_y)]\n",
        "      testaccs_erf[k_type] += [percent_correct(inf_width_test_preds, test_y)]\n",
        "\n",
        "    print(\"erf depth \", n_hidden_layers,\n",
        "          \" \\tloss (nngp):\", \"{:9.5f}\".format(testlosses_erf['nngp'][-1]),\n",
        "          \" \\tacc (nngp):\", \"{:7.2f}\".format(testaccs_erf['nngp'][-1]), \n",
        "          \" \\t\\t loss (ntk):\", \"{:9.5f}\".format(testlosses_erf['ntk'][-1]),\n",
        "          \" \\tacc (ntk):\", \"{:7.2f}\".format(testaccs_erf['ntk'][-1]), )\n",
        "\n",
        "  testlosses_relu = {'nngp':[], 'ntk':[]}\n",
        "  testaccs_relu = {'nngp':[], 'ntk':[]}\n",
        "  print()\n",
        "  # LOOP THROUGH ERF NETS OF DIFFERENT DEPTHS\n",
        "  for n_hidden_layers in depths:\n",
        "    init_fn, apply_fn, kernel_fn, initial_params = get_net_functions(d_in, 1000, d_out, n_hidden_layers=n_hidden_layers, phi='relu')\n",
        "    batched_kernel_fn = get_batched_kernel_fn(kernel_fn, k_batch_size=1000)\n",
        "\n",
        "    predict_fn = nt.predict.gradient_descent_mse_ensemble(batched_kernel_fn, train_X[:], train_y[:])\n",
        "\n",
        "    for k_type in ['nngp', 'ntk']:\n",
        "      inf_width_test_preds = predict_fn(x_test=test_X, get=k_type, compute_cov=False)\n",
        "      inf_width_loss = mse(inf_width_test_preds, test_y)\n",
        "      testlosses_relu[k_type] += [mse(inf_width_test_preds, test_y)]\n",
        "      testaccs_relu[k_type] += [percent_correct(inf_width_test_preds, test_y)]\n",
        "\n",
        "    print(\"relu depth \", n_hidden_layers,\n",
        "          \" \\tloss (nngp):\", \"{:9.5f}\".format(testlosses_relu['nngp'][-1]),\n",
        "          \" \\tacc (nngp):\", \"{:7.2f}\".format(testaccs_relu['nngp'][-1]), \n",
        "          \" \\t\\t loss (ntk):\", \"{:9.5f}\".format(testlosses_relu['ntk'][-1]),\n",
        "          \" \\tacc (ntk):\", \"{:7.2f}\".format(testaccs_relu['ntk'][-1]), )\n",
        "\n",
        "  return testlosses_relu, testaccs_relu, testlosses_erf, testaccs_erf, testlosses_shallow, testaccs_shallow"
      ],
      "execution_count": null,
      "outputs": []
    },
    {
      "cell_type": "code",
      "metadata": {
        "id": "-9jy1gudHfUt",
        "colab": {
          "base_uri": "https://localhost:8080/"
        },
        "outputId": "a2f32fa3-d8a8-46bb-c8f4-55ff72b59c89"
      },
      "source": [
        "# LOAD DATA\n",
        "dataset_cifar10 = get_cifar10(n_train=10000)\n",
        "d_in = dataset_cifar10[0].shape[1]\n",
        "d_out = 10\n",
        "# train_X, train_y, test_X, test_y = get_cifar10(n_train=10000)"
      ],
      "execution_count": null,
      "outputs": [
        {
          "output_type": "stream",
          "text": [
            "Downloaded cifar-10-binary.tar.gz to /root/data/cifar10\n"
          ],
          "name": "stdout"
        }
      ]
    },
    {
      "cell_type": "code",
      "metadata": {
        "id": "Ri15R3Cbja2U"
      },
      "source": [
        "max_depth = 15\n",
        "max_phi_deg = 20\n",
        "testlosses_relu, testaccs_relu, testlosses_erf, testaccs_erf, testlosses_shallow, testaccs_shallow = get_deep_net_results(dataset_cifar10, max_depth=max_depth, max_phi_deg=max_phi_deg)"
      ],
      "execution_count": null,
      "outputs": []
    },
    {
      "cell_type": "code",
      "metadata": {
        "colab": {
          "base_uri": "https://localhost:8080/",
          "height": 369
        },
        "id": "bEjSAhlv_Thl",
        "outputId": "33dde209-033a-4893-f6b2-4b465cb864fa"
      },
      "source": [
        "# fig, ax = plt.subplots(figsize=(10,6))\n",
        "fig, axs = plt.subplots(nrows=1, ncols=2, figsize=(14, 5))\n",
        "axs[0].get_shared_y_axes().join(axs[0], axs[1])\n",
        "# fig = plt.figure(figsize=(20, 6))\n",
        "# axs = [None, None]\n",
        "# axs[0] = plt.subplot(1, 2, 1)\n",
        "# axs[1] = plt.subplot(1, 2, 2, sharey=axs[0])\n",
        "\n",
        "ax = axs[0]\n",
        "kwargs = {'lw':3, 'markersize':10}\n",
        "depths = list(range(1, max_depth+1, 1))\n",
        "ax.plot(depths, testaccs_relu['nngp'], 's-', color=(0,.5,.5), label='ReLU (NNGP)', **kwargs)\n",
        "ax.plot(depths, testaccs_relu['ntk'], 'D-', color=(0,.2,.2), label='ReLU (NTK)', **kwargs)\n",
        "ax.plot(depths, testaccs_erf['nngp'], '^-', color=(.7,0,0), label='Erf (NNGP)', **kwargs)\n",
        "ax.plot(depths, testaccs_erf['ntk'], 'v-', color=(.2,0,0), label='Erf (NTK)', **kwargs)\n",
        "ax.plot([1], [testaccs_shallow[max_phi_deg-2]], 'o', color=(0,.6,0), label='$\\\\phi$ (NNGP)', **kwargs)\n",
        "ax.plot([-100,100], [testaccs_shallow[max_phi_deg-2]]*2, lw=2, linestyle=(0,(3,3)), color=(0,.6,0))\n",
        "ax.set_xlabel('Number of hidden layers', fontsize=22)\n",
        "ax.set_ylabel('CIFAR-10 test accuracy (%)', fontsize=22)\n",
        "ax.set_xticks(list([i for i in range(2,20,2)]), minor=False)\n",
        "ax.set_xticks(list([i for i in range(1,20,2)]), minor=True)\n",
        "ax.tick_params(axis='both', which='major', labelsize=15)\n",
        "ax.legend(prop=dict(size=15), frameon=False)\n",
        "ax.set_xlim(min(depths) - .5, max(depths) + .5)\n",
        "for s in range(500, 550, 50):\n",
        "  ax.scatter(max_depth, max(testaccs_relu['nngp']), edgecolor=(.5,0,1), facecolor='none', s=s, zorder=10)\n",
        "# ax.add_patch(plt.Circle((max_depth, max(testaccs_relu['nngp'])), 1, color=(1,0,1), clip_on=False))\n",
        "\n",
        "ax = axs[1]\n",
        "degs = list(range(2, max_phi_deg+1, 1))\n",
        "ax.plot(degs, testaccs_shallow, 'o-', color=(0,.6,0), lw=3, markersize=6, label='$\\\\phi$ (NNGP)')\n",
        "ax.plot(degs[-1], testaccs_shallow[-1], 'o-', color=(0,.6,0), markersize=10)\n",
        "ax.set_xlabel('Kernel approximation degree', fontsize=22)\n",
        "ax.set_xticks(list([i for i in range(2,max_phi_deg+1,2)]), minor=False)\n",
        "ax.set_xticks(list([i for i in range(1,max_phi_deg+1,2)]), minor=True)\n",
        "ax.set_yticklabels([])\n",
        "ax.tick_params(axis='both', which='major', labelsize=15)\n",
        "ax.set_xlim((1.5, max_phi_deg+1))\n",
        "ax.set_ylim((min(testaccs_relu['nngp']) - .5, max(testaccs_relu['nngp']) + .5))\n",
        "ax.legend(prop=dict(size=20), frameon=False, loc='lower right')\n",
        "\n",
        "axs[0].text(0, 1.05, 'A', transform=axs[0].transAxes, size=20, weight='bold')\n",
        "axs[1].text(0, 1.05, 'B', transform=axs[1].transAxes, size=20, weight='bold')\n",
        "\n",
        "fig.tight_layout()\n",
        "\n",
        "plt.savefig('fig2.png', transparent=True, dpi=300, bbox_inches='tight')"
      ],
      "execution_count": null,
      "outputs": [
        {
          "output_type": "display_data",
          "data": {
            "image/png": "[encoded data removed]",
            "text/plain": [
              "<Figure size 1008x360 with 2 Axes>"
            ]
          },
          "metadata": {
            "tags": [],
            "needs_background": "light"
          }
        }
      ]
    }
  ]
}